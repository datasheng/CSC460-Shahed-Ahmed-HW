{
 "cells": [
  {
   "cell_type": "code",
   "execution_count": 68,
   "metadata": {},
   "outputs": [],
   "source": [
    "# Imports\n",
    "import requests\n",
    "from bs4 import BeautifulSoup\n",
    "from datetime import datetime"
   ]
  },
  {
   "cell_type": "code",
   "execution_count": 69,
   "metadata": {},
   "outputs": [],
   "source": [
    "url = \"https://www.ccny.cuny.edu/registrar/fall\"\n",
    "r = requests.get(url)\n",
    "html_doc = r.text\n",
    "soup = BeautifulSoup(html_doc)\n",
    "# print(soup.prettify())"
   ]
  },
  {
   "cell_type": "code",
   "execution_count": 70,
   "metadata": {},
   "outputs": [],
   "source": [
    "table = soup.find_all('table')[0]\n",
    "# print(table)\n",
    "\n",
    "rows = table.find_all('tr')\n",
    "# print(rows)"
   ]
  },
  {
   "cell_type": "code",
   "execution_count": null,
   "metadata": {},
   "outputs": [],
   "source": [
    "calendar_rows = {\n",
    "    \"date\": [],\n",
    "    \"day of the week\": [],\n",
    "    \"text\": [],\n",
    "}\n",
    "\n",
    "\n",
    "# Returns the start date explicitly\n",
    "def clean_date(date):\n",
    "    default_year = \", 2021\"\n",
    "\n",
    "    start_date = date.strip().split(\"-\")[0]\n",
    "\n",
    "    if len(start_date.split(\",\")) == 1:\n",
    "        start_date = start_date.strip() + default_year\n",
    "\n",
    "    return datetime.strptime(start_date, \"%B %d, %Y\").date()\n",
    "\n",
    "# Returns the day of the week mentioned\n",
    "def clean_dotw(dotw):\n",
    "    return dotw.strip().replace(\"\\n\", \"\").replace(\"\\t\", \"\").split(\" \")[0]\n",
    "\n",
    "\n",
    "def clean_text(text):\n",
    "    return text.strip().replace(\"\\n\", \" \").replace(\"\\t\", \"\")\n",
    "\n",
    "\n",
    "for row in rows:\n",
    "    row_data = row.find_all(\"td\")\n",
    "\n",
    "    if row_data:\n",
    "        calendar_rows[\"date\"].append(clean_date(row_data[0].text))\n",
    "        calendar_rows[\"day of the week\"].append(clean_dotw(row_data[1].text))\n",
    "        calendar_rows[\"text\"].append(clean_text(row_data[2].text))\n",
    "\n",
    "# print(calendar_rows)"
   ]
  }
 ],
 "metadata": {
  "kernelspec": {
   "display_name": ".venv",
   "language": "python",
   "name": "python3"
  },
  "language_info": {
   "codemirror_mode": {
    "name": "ipython",
    "version": 3
   },
   "file_extension": ".py",
   "mimetype": "text/x-python",
   "name": "python",
   "nbconvert_exporter": "python",
   "pygments_lexer": "ipython3",
   "version": "3.12.7"
  }
 },
 "nbformat": 4,
 "nbformat_minor": 2
}
