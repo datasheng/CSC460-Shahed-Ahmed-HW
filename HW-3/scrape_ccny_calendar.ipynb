{
 "cells": [
  {
   "cell_type": "code",
   "execution_count": 1,
   "metadata": {},
   "outputs": [],
   "source": [
    "# Imports\n",
    "import requests\n",
    "from bs4 import BeautifulSoup\n",
    "from datetime import datetime\n",
    "import pandas as pd"
   ]
  },
  {
   "cell_type": "code",
   "execution_count": 2,
   "metadata": {},
   "outputs": [],
   "source": [
    "url = \"https://www.ccny.cuny.edu/registrar/fall\"\n",
    "r = requests.get(url)\n",
    "html_doc = r.text\n",
    "soup = BeautifulSoup(html_doc)\n",
    "# print(soup.prettify())"
   ]
  },
  {
   "cell_type": "code",
   "execution_count": 3,
   "metadata": {},
   "outputs": [],
   "source": [
    "table = soup.find_all('table')[0]\n",
    "# print(table)\n",
    "\n",
    "rows = table.find_all('tr')\n",
    "# print(rows)"
   ]
  },
  {
   "cell_type": "code",
   "execution_count": 4,
   "metadata": {},
   "outputs": [],
   "source": [
    "calendar_rows = {\n",
    "    \"date\": [],\n",
    "    \"day of the week\": [],\n",
    "    \"text\": [],\n",
    "}\n",
    "\n",
    "\n",
    "# Returns the start date explicitly\n",
    "def clean_date(date):\n",
    "    default_year = \", 2021\"\n",
    "\n",
    "    start_date = date.strip().split(\"-\")[0]\n",
    "\n",
    "    if len(start_date.split(\",\")) == 1:\n",
    "        start_date = start_date.strip() + default_year\n",
    "\n",
    "    return datetime.strptime(start_date, \"%B %d, %Y\").date()\n",
    "\n",
    "# Returns the day of the week mentioned\n",
    "def clean_dotw(dotw):\n",
    "    return dotw.strip().replace(\"\\n\", \"\").replace(\"\\t\", \"\").split(\" \")[0]\n",
    "\n",
    "\n",
    "def clean_text(text):\n",
    "    return text.strip().replace(\"\\n\", \" \").replace(\"\\t\", \"\")\n",
    "\n",
    "\n",
    "for row in rows:\n",
    "    row_data = row.find_all(\"td\")\n",
    "\n",
    "    if row_data:\n",
    "        calendar_rows[\"date\"].append(clean_date(row_data[0].text))\n",
    "        calendar_rows[\"day of the week\"].append(clean_dotw(row_data[1].text))\n",
    "        calendar_rows[\"text\"].append(clean_text(row_data[2].text))\n",
    "\n",
    "# print(calendar_rows)"
   ]
  },
  {
   "cell_type": "code",
   "execution_count": 5,
   "metadata": {},
   "outputs": [
    {
     "name": "stdout",
     "output_type": "stream",
     "text": [
      "           day of the week                                               text\n",
      "date                                                                         \n",
      "2021-08-01          Sunday  Application for degree for January and Februar...\n",
      "2021-08-18       Wednesday                 Last day to apply for Study Abroad\n",
      "2021-08-24         Tuesday  Last day of Registration; Last day to file ePe...\n",
      "2021-08-25       Wednesday  Start of Fall Term; Classes begin; Initial Reg...\n",
      "2021-08-25       Wednesday          Change of program period; late fees apply\n",
      "2021-08-26        Thursday                     Last day for Independent Study\n",
      "2021-08-28        Saturday                      First day of Saturday Classes\n",
      "2021-08-31         Tuesday  Last day to add a class to an existing enrollm...\n",
      "2021-09-01       Wednesday  Verification of Enrollment rosters available t...\n",
      "2021-09-03          Friday                               No classes scheduled\n",
      "2021-09-06          Monday   College Closed; Last day for 50% tuition refund;\n",
      "2021-09-09        Thursday                               Freshman Convocation\n",
      "2021-09-14         Tuesday  Last day for 25% tuition refund; Census date; ...\n",
      "2021-09-15       Wednesday  Assignment of 'WN' grades for non-attendance; ...\n",
      "2021-09-15       Wednesday                               No classes scheduled\n",
      "2021-09-23        Thursday  Last day to submit proof of immunization for N...\n",
      "2021-09-24          Friday  Assignment of 'WA' grades for immunization non...\n",
      "2021-10-01          Friday  Advising month begins for Spring and Winter en...\n",
      "2021-10-08          Friday  Deadline for filing application for degree for...\n",
      "2021-10-11          Monday                                     College Closed\n",
      "2021-11-01          Monday  'INC' grades for Spring 2021 and Winter 2021 f...\n",
      "2021-11-02         Tuesday  Registration appointments for Winter and Sprin...\n",
      "2021-11-04        Thursday                   Last day to file for P/NC option\n",
      "2021-11-06        Saturday                               60% Date of the term\n",
      "2021-11-23         Tuesday  'INC' grades for Summer 2021 for Undergraduate...\n",
      "2021-11-25        Thursday                                     College Closed\n",
      "2021-12-11        Saturday                       Last day of Saturday Classes\n",
      "2021-12-13          Monday  Course Withdrawal period ends (Last day to wit...\n",
      "2021-12-14         Tuesday                                        Reading Day\n",
      "2021-12-15       Wednesday                                 Final Examinations\n",
      "2021-12-21         Tuesday                                        End of Term\n",
      "2021-12-24          Friday                                     College Closed\n",
      "2021-12-27          Monday                                     College Closed\n",
      "2021-12-28         Tuesday      Final Grade Submission Deadline for Fall 2021\n",
      "2021-12-31          Friday                                     College Closed\n",
      "2022-01-01        Saturday   College Closed; Fall 2021 Degree Conferral Date;\n"
     ]
    }
   ],
   "source": [
    "# Converting dictionary to pandas dataframe\n",
    "df = pd.DataFrame(calendar_rows)\n",
    "df = df.set_index(\"date\")\n",
    "\n",
    "print(df)"
   ]
  }
 ],
 "metadata": {
  "kernelspec": {
   "display_name": ".venv",
   "language": "python",
   "name": "python3"
  },
  "language_info": {
   "codemirror_mode": {
    "name": "ipython",
    "version": 3
   },
   "file_extension": ".py",
   "mimetype": "text/x-python",
   "name": "python",
   "nbconvert_exporter": "python",
   "pygments_lexer": "ipython3",
   "version": "3.12.7"
  }
 },
 "nbformat": 4,
 "nbformat_minor": 2
}
